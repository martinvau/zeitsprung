{
 "cells": [
  {
   "cell_type": "markdown",
   "metadata": {},
   "source": [
    "# Interactive Notebook | Zeitsprung.FM"
   ]
  },
  {
   "cell_type": "code",
   "execution_count": 1,
   "metadata": {},
   "outputs": [],
   "source": [
    "import pandas as pd\n",
    "import numpy as np"
   ]
  },
  {
   "cell_type": "code",
   "execution_count": 12,
   "metadata": {},
   "outputs": [],
   "source": [
    "# 1) create dummy pandas dataframe to play around with\n",
    "# columns:\n",
    "# EPISODE_NUM: episode number\n",
    "# EPISODE_NAME: episode name\n",
    "# HOST_NAME: host name\n",
    "# START_YEAR: [YYYY] start year of story\n",
    "# END_YEAR: [YYYY] end year of story\n",
    "# START_MONTH: [MM] start year of story\n",
    "# END_MONTH: [MM] end year of story\n",
    "# MAIN_COUNTRY: main country for story\n",
    "# COORD_FLAG: [0/1/2]\n",
    "# COORD_LAT: if COORD_FLAG = 1: latitude of story\n",
    "# COORD_LONG: if COORD_FLAG = 1: longitude of story\n",
    "# COORD_ID: if COORD_FLAG == 2: ID of gps track\n",
    "\n",
    "\n",
    "data = [\n",
    "        {'EPISODE_NUM': 1, \n",
    "         'EPISODE_NAME': 'first episode title', \n",
    "         'HOST_NAME':'A',\n",
    "         'START_YEAR': 1890,\n",
    "         'END_YEAR': 1895,\n",
    "         'START_MONTH': '02',\n",
    "         'END_MONTH': '10',\n",
    "         'MAIN_COUNTRY': 'FRANCE',\n",
    "         'COORD_FLAG': 0,\n",
    "         'COORD_LAT': '',\n",
    "         'COORD_LONG': '',\n",
    "         'COORD_ID': ''}]\n",
    "\n",
    "data.append(\n",
    "        {'EPISODE_NUM': 2, \n",
    "         'EPISODE_NAME': 'second episode title', \n",
    "         'HOST_NAME':'B',\n",
    "         'START_YEAR': 1790,\n",
    "         'END_YEAR': 1750,\n",
    "         'START_MONTH': '01',\n",
    "         'END_MONTH': '12',\n",
    "         'MAIN_COUNTRY': 'GERMANY',\n",
    "         'COORD_FLAG': 0,\n",
    "         'COORD_LAT': '',\n",
    "         'COORD_LONG': '',\n",
    "         'COORD_ID': ''})\n",
    "\n",
    "df = pd.DataFrame(data) \n",
    "\n",
    "df.to_csv('../data/test.csv', sep='\\t', encoding='utf-8',index=False)\n"
   ]
  },
  {
   "cell_type": "code",
   "execution_count": 13,
   "metadata": {},
   "outputs": [
    {
     "data": {
      "text/html": [
       "<div>\n",
       "<style scoped>\n",
       "    .dataframe tbody tr th:only-of-type {\n",
       "        vertical-align: middle;\n",
       "    }\n",
       "\n",
       "    .dataframe tbody tr th {\n",
       "        vertical-align: top;\n",
       "    }\n",
       "\n",
       "    .dataframe thead th {\n",
       "        text-align: right;\n",
       "    }\n",
       "</style>\n",
       "<table border=\"1\" class=\"dataframe\">\n",
       "  <thead>\n",
       "    <tr style=\"text-align: right;\">\n",
       "      <th></th>\n",
       "      <th>EPISODE_NUM</th>\n",
       "      <th>EPISODE_NAME</th>\n",
       "      <th>HOST_NAME</th>\n",
       "      <th>START_YEAR</th>\n",
       "      <th>END_YEAR</th>\n",
       "      <th>START_MONTH</th>\n",
       "      <th>END_MONTH</th>\n",
       "      <th>MAIN_COUNTRY</th>\n",
       "      <th>COORD_FLAG</th>\n",
       "      <th>COORD_LAT</th>\n",
       "      <th>COORD_LONG</th>\n",
       "      <th>COORD_ID</th>\n",
       "    </tr>\n",
       "  </thead>\n",
       "  <tbody>\n",
       "    <tr>\n",
       "      <th>0</th>\n",
       "      <td>1</td>\n",
       "      <td>first episode title</td>\n",
       "      <td>A</td>\n",
       "      <td>1890</td>\n",
       "      <td>1895</td>\n",
       "      <td>02</td>\n",
       "      <td>10</td>\n",
       "      <td>FRANCE</td>\n",
       "      <td>0</td>\n",
       "      <td></td>\n",
       "      <td></td>\n",
       "      <td></td>\n",
       "    </tr>\n",
       "    <tr>\n",
       "      <th>1</th>\n",
       "      <td>2</td>\n",
       "      <td>second episode title</td>\n",
       "      <td>B</td>\n",
       "      <td>1790</td>\n",
       "      <td>1750</td>\n",
       "      <td>01</td>\n",
       "      <td>12</td>\n",
       "      <td>GERMANY</td>\n",
       "      <td>0</td>\n",
       "      <td></td>\n",
       "      <td></td>\n",
       "      <td></td>\n",
       "    </tr>\n",
       "  </tbody>\n",
       "</table>\n",
       "</div>"
      ],
      "text/plain": [
       "   EPISODE_NUM          EPISODE_NAME HOST_NAME  START_YEAR  END_YEAR  \\\n",
       "0            1   first episode title         A        1890      1895   \n",
       "1            2  second episode title         B        1790      1750   \n",
       "\n",
       "  START_MONTH END_MONTH MAIN_COUNTRY  COORD_FLAG COORD_LAT COORD_LONG COORD_ID  \n",
       "0          02        10       FRANCE           0                                \n",
       "1          01        12      GERMANY           0                                "
      ]
     },
     "execution_count": 13,
     "metadata": {},
     "output_type": "execute_result"
    }
   ],
   "source": [
    "df"
   ]
  },
  {
   "cell_type": "code",
   "execution_count": null,
   "metadata": {},
   "outputs": [],
   "source": []
  }
 ],
 "metadata": {
  "kernelspec": {
   "display_name": "py_bootcamp",
   "language": "python",
   "name": "py_bootcamp"
  },
  "language_info": {
   "codemirror_mode": {
    "name": "ipython",
    "version": 3
   },
   "file_extension": ".py",
   "mimetype": "text/x-python",
   "name": "python",
   "nbconvert_exporter": "python",
   "pygments_lexer": "ipython3",
   "version": "3.7.1"
  }
 },
 "nbformat": 4,
 "nbformat_minor": 2
}
